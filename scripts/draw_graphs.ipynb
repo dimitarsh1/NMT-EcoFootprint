{
 "cells": [
  {
   "cell_type": "code",
   "execution_count": 6,
   "metadata": {},
   "outputs": [],
   "source": [
    "import os\n",
    "import argparse\n",
    "import pandas as pd\n",
    "import logging\n",
    "import altair as alt\n",
    "from altair_saver import save\n",
    "from vega_datasets import data\n",
    "from datetime import datetime"
   ]
  },
  {
   "cell_type": "code",
   "execution_count": 7,
   "metadata": {},
   "outputs": [],
   "source": [
    "# let's load the data\n",
    "data = pd.read_csv(\"~/Documents/BookCarla/Results/GPUs_and_Others.csv\", sep='\\t', header=[0])\n",
    "data_gpu = pd.read_csv(\"~/Documents/BookCarla/Results/GPUs.csv\", sep='\\t', header=[0])\n",
    "data_other = pd.read_csv(\"~/Documents/BookCarla/Results/OtherAppliences_short.csv\", sep='\\t', header=[0])\n",
    "data_co2 = pd.read_csv(\"~/Documents/BookCarla/Results/Appliances_CO2.csv\", sep='\\t', header=[0])\n",
    "sorting_idx = data.sort_values('avg', ascending=False)['Appliance']\n",
    "sorting_idx_co2 = data_co2.sort_values('CO2', ascending=False)['Appliance'].drop_duplicates()"
   ]
  },
  {
   "cell_type": "code",
   "execution_count": 8,
   "metadata": {},
   "outputs": [
    {
     "data": {
      "text/html": [
       "\n",
       "<div id=\"altair-viz-2f00fdbd0e44455e867ff4ae9e2ba4b6\"></div>\n",
       "<script type=\"text/javascript\">\n",
       "  (function(spec, embedOpt){\n",
       "    let outputDiv = document.currentScript.previousElementSibling;\n",
       "    if (outputDiv.id !== \"altair-viz-2f00fdbd0e44455e867ff4ae9e2ba4b6\") {\n",
       "      outputDiv = document.getElementById(\"altair-viz-2f00fdbd0e44455e867ff4ae9e2ba4b6\");\n",
       "    }\n",
       "    const paths = {\n",
       "      \"vega\": \"https://cdn.jsdelivr.net/npm//vega@5?noext\",\n",
       "      \"vega-lib\": \"https://cdn.jsdelivr.net/npm//vega-lib?noext\",\n",
       "      \"vega-lite\": \"https://cdn.jsdelivr.net/npm//vega-lite@4.8.1?noext\",\n",
       "      \"vega-embed\": \"https://cdn.jsdelivr.net/npm//vega-embed@6?noext\",\n",
       "    };\n",
       "\n",
       "    function loadScript(lib) {\n",
       "      return new Promise(function(resolve, reject) {\n",
       "        var s = document.createElement('script');\n",
       "        s.src = paths[lib];\n",
       "        s.async = true;\n",
       "        s.onload = () => resolve(paths[lib]);\n",
       "        s.onerror = () => reject(`Error loading script: ${paths[lib]}`);\n",
       "        document.getElementsByTagName(\"head\")[0].appendChild(s);\n",
       "      });\n",
       "    }\n",
       "\n",
       "    function showError(err) {\n",
       "      outputDiv.innerHTML = `<div class=\"error\" style=\"color:red;\">${err}</div>`;\n",
       "      throw err;\n",
       "    }\n",
       "\n",
       "    function displayChart(vegaEmbed) {\n",
       "      vegaEmbed(outputDiv, spec, embedOpt)\n",
       "        .catch(err => showError(`Javascript Error: ${err.message}<br>This usually means there's a typo in your chart specification. See the javascript console for the full traceback.`));\n",
       "    }\n",
       "\n",
       "    if(typeof define === \"function\" && define.amd) {\n",
       "      requirejs.config({paths});\n",
       "      require([\"vega-embed\"], displayChart, err => showError(`Error loading script: ${err.message}`));\n",
       "    } else if (typeof vegaEmbed === \"function\") {\n",
       "      displayChart(vegaEmbed);\n",
       "    } else {\n",
       "      loadScript(\"vega\")\n",
       "        .then(() => loadScript(\"vega-lite\"))\n",
       "        .then(() => loadScript(\"vega-embed\"))\n",
       "        .catch(showError)\n",
       "        .then(() => displayChart(vegaEmbed));\n",
       "    }\n",
       "  })({\"config\": {\"view\": {\"continuousWidth\": 400, \"continuousHeight\": 300, \"strokeWidth\": 0}, \"headerRow\": {\"labelAlign\": \"left\", \"labelAnchor\": \"middle\", \"labelAngle\": 0}, \"legend\": {\"orient\": \"bottom\"}}, \"data\": {\"name\": \"data-c6afddf8db64a2f040075efb8ea81624\"}, \"mark\": \"bar\", \"encoding\": {\"color\": {\"type\": \"nominal\", \"field\": \"Country\"}, \"row\": {\"type\": \"nominal\", \"field\": \"Appliance\", \"sort\": [\"1080Ti (TRANS \\u2013 ES-EN)\", \"1080Ti (TRANS \\u2013 FR-EN)\", \"1080Ti (TRANS \\u2013 EN-FR)\", \"1080Ti (TRANS \\u2013 EN-ES)\", \"1080Ti (LSTM \\u2013 EN-FR)\", \"1080Ti (LSTM \\u2013 FR-EN)\", \"1080Ti (LSTM \\u2013 EN-ES)\", \"1080Ti (LSTM \\u2013 ES-EN)\", \"P100 (TRANS \\u2013 EN-FR)\", \"P100 (TRANS \\u2013 EN-ES)\", \"P100 (TRANS \\u2013 FR-EN)\", \"P100 (TRANS \\u2013 ES-EN)\", \"P100 (LSTM \\u2013 EN-FR)\", \"P100 (LSTM \\u2013 EN-ES)\", \"P100 (LSTM \\u2013 FR-EN)\", \"P100 (LSTM \\u2013 ES-EN)\", \"1080Ti (TRANS \\u2013 FR-EN Translate)\", \"1080Ti (TRANS \\u2013 ES-EN Translate)\", \"1080Ti (TRANS \\u2013 EN-FR Translate)\", \"1080Ti (TRANS \\u2013 EN-ES Translate)\", \"1080Ti (LSTM \\u2013 EN-ES Translate)\", \"1080Ti (LSTM \\u2013 EN-FR Translate)\", \"1080Ti (LSTM \\u2013 ES-EN Translate)\", \"1080Ti (LSTM \\u2013 FR-EN Translate)\", \"P100 (TRANS \\u2013 ES-EN Translate)\", \"P100 (TRANS \\u2013 EN-FR Translate)\", \"P100 (TRANS \\u2013 EN-ES Translate)\", \"P100 (TRANS \\u2013 FR-EN Translate)\", \"P100 (LSTM \\u2013 FR-EN Translate)\", \"P100 (LSTM \\u2013 EN-ES Translate)\", \"P100 (LSTM \\u2013 EN-FR Translate)\", \"P100 (LSTM \\u2013 ES-EN Translate)\", \"Fridge-Freezer A spec\", \"Electric Tumble Dryer\", \"Electric Hob\", \"Fridge-Freezer A+ spec\", \"Electric Oven\", \"Fridge-Freezer A ++ spec\", \"Dishwasher at 65\\u00b0C\", \"Kettle\", \"Washing Machine\", \"Dishwasher at 55\\u00b0C\", \"Microwave Oven\", \"Primary TV \\u2013 LCD 34-37 inch\"], \"spacing\": 0, \"title\": \"Appliance\"}, \"x\": {\"type\": \"quantitative\", \"field\": \"CO2\", \"title\": \"CO2 (kg) for a year\"}, \"y\": {\"type\": \"nominal\", \"axis\": {\"labels\": false, \"ticks\": false}, \"field\": \"Country\", \"title\": \"\"}}, \"height\": 20, \"width\": 300, \"$schema\": \"https://vega.github.io/schema/vega-lite/v4.8.1.json\", \"datasets\": {\"data-c6afddf8db64a2f040075efb8ea81624\": [{\"Appliance\": \"Microwave Oven\", \"Country\": \"Ireland\", \"CO2\": 20.853969696}, {\"Appliance\": \"Washing Machine\", \"Country\": \"Ireland\", \"CO2\": 27.081196758}, {\"Appliance\": \"Electric Tumble Dryer\", \"Country\": \"Ireland\", \"CO2\": 85.052566}, {\"Appliance\": \"Kettle\", \"Country\": \"Ireland\", \"CO2\": 38.990854716}, {\"Appliance\": \"Electric Oven\", \"Country\": \"Ireland\", \"CO2\": 48.4468610808}, {\"Appliance\": \"Electric Hob\", \"Country\": \"Ireland\", \"CO2\": 69.200606672}, {\"Appliance\": \"Dishwasher at 55\\u00b0C\", \"Country\": \"Ireland\", \"CO2\": 27.05591086}, {\"Appliance\": \"Dishwasher at 65\\u00b0C\", \"Country\": \"Ireland\", \"CO2\": 44.68707792}, {\"Appliance\": \"Fridge-Freezer A ++ spec\", \"Country\": \"Ireland\", \"CO2\": 47.3535908}, {\"Appliance\": \"Fridge-Freezer A+ spec\", \"Country\": \"Ireland\", \"CO2\": 62.065386}, {\"Appliance\": \"Fridge-Freezer A spec\", \"Country\": \"Ireland\", \"CO2\": 93.7876944}, {\"Appliance\": \"Primary TV \\u2013 LCD 34-37 inch\", \"Country\": \"Ireland\", \"CO2\": 3.4064702042}, {\"Appliance\": \"1080Ti (LSTM \\u2013 EN-FR)\", \"Country\": \"Ireland\", \"CO2\": 1129.68241386603}, {\"Appliance\": \"1080Ti (LSTM \\u2013 EN-ES)\", \"Country\": \"Ireland\", \"CO2\": 1119.1819544076}, {\"Appliance\": \"1080Ti (LSTM \\u2013 FR-EN)\", \"Country\": \"Ireland\", \"CO2\": 1126.32293190983}, {\"Appliance\": \"1080Ti (LSTM \\u2013 ES-EN)\", \"Country\": \"Ireland\", \"CO2\": 1110.08279121903}, {\"Appliance\": \"1080Ti (TRANS \\u2013 EN-FR)\", \"Country\": \"Ireland\", \"CO2\": 1404.1732114023}, {\"Appliance\": \"1080Ti (TRANS \\u2013 EN-ES)\", \"Country\": \"Ireland\", \"CO2\": 1403.47182618182}, {\"Appliance\": \"1080Ti (TRANS \\u2013 FR-EN)\", \"Country\": \"Ireland\", \"CO2\": 1404.66247036098}, {\"Appliance\": \"1080Ti (TRANS \\u2013 ES-EN)\", \"Country\": \"Ireland\", \"CO2\": 1424.77143962264}, {\"Appliance\": \"P100 (LSTM \\u2013 EN-FR)\", \"Country\": \"Ireland\", \"CO2\": 676.92911351248}, {\"Appliance\": \"P100 (LSTM \\u2013 EN-ES)\", \"Country\": \"Ireland\", \"CO2\": 669.614069791116}, {\"Appliance\": \"P100 (LSTM \\u2013 FR-EN)\", \"Country\": \"Ireland\", \"CO2\": 668.338663931183}, {\"Appliance\": \"P100 (LSTM \\u2013 ES-EN)\", \"Country\": \"Ireland\", \"CO2\": 667.731508909943}, {\"Appliance\": \"P100 (TRANS \\u2013 EN-FR)\", \"Country\": \"Ireland\", \"CO2\": 903.368916474308}, {\"Appliance\": \"P100 (TRANS \\u2013 EN-ES)\", \"Country\": \"Ireland\", \"CO2\": 893.859908237624}, {\"Appliance\": \"P100 (TRANS \\u2013 FR-EN)\", \"Country\": \"Ireland\", \"CO2\": 892.660923958763}, {\"Appliance\": \"P100 (TRANS \\u2013 ES-EN)\", \"Country\": \"Ireland\", \"CO2\": 889.915305212903}, {\"Appliance\": \"1080Ti (LSTM \\u2013 EN-FR Translate)\", \"Country\": \"Ireland\", \"CO2\": 291.453245368421}, {\"Appliance\": \"1080Ti (LSTM \\u2013 EN-ES Translate)\", \"Country\": \"Ireland\", \"CO2\": 291.83724173913}, {\"Appliance\": \"1080Ti (LSTM \\u2013 FR-EN Translate)\", \"Country\": \"Ireland\", \"CO2\": 285.521361134328}, {\"Appliance\": \"1080Ti (LSTM \\u2013 ES-EN Translate)\", \"Country\": \"Ireland\", \"CO2\": 285.724434648649}, {\"Appliance\": \"1080Ti (TRANS \\u2013 EN-FR Translate)\", \"Country\": \"Ireland\", \"CO2\": 344.545488821293}, {\"Appliance\": \"1080Ti (TRANS \\u2013 EN-ES Translate)\", \"Country\": \"Ireland\", \"CO2\": 308.547277354839}, {\"Appliance\": \"1080Ti (TRANS \\u2013 FR-EN Translate)\", \"Country\": \"Ireland\", \"CO2\": 383.169301603239}, {\"Appliance\": \"1080Ti (TRANS \\u2013 ES-EN Translate)\", \"Country\": \"Ireland\", \"CO2\": 345.201765942857}, {\"Appliance\": \"P100 (LSTM \\u2013 EN-FR Translate)\", \"Country\": \"Ireland\", \"CO2\": 175.102345043478}, {\"Appliance\": \"P100 (LSTM \\u2013 EN-ES Translate)\", \"Country\": \"Ireland\", \"CO2\": 178.728724970414}, {\"Appliance\": \"P100 (LSTM \\u2013 FR-EN Translate)\", \"Country\": \"Ireland\", \"CO2\": 179.993472}, {\"Appliance\": \"P100 (LSTM \\u2013 ES-EN Translate)\", \"Country\": \"Ireland\", \"CO2\": 174.02146637037}, {\"Appliance\": \"P100 (TRANS \\u2013 EN-FR Translate)\", \"Country\": \"Ireland\", \"CO2\": 207.388657833887}, {\"Appliance\": \"P100 (TRANS \\u2013 EN-ES Translate)\", \"Country\": \"Ireland\", \"CO2\": 201.3676968}, {\"Appliance\": \"P100 (TRANS \\u2013 FR-EN Translate)\", \"Country\": \"Ireland\", \"CO2\": 196.301842792453}, {\"Appliance\": \"P100 (TRANS \\u2013 ES-EN Translate)\", \"Country\": \"Ireland\", \"CO2\": 209.602063583643}, {\"Appliance\": \"Microwave Oven\", \"Country\": \"Netherlands\", \"CO2\": 36.23071032}, {\"Appliance\": \"Washing Machine\", \"Country\": \"Netherlands\", \"CO2\": 47.049602985}, {\"Appliance\": \"Electric Tumble Dryer\", \"Country\": \"Netherlands\", \"CO2\": 147.766345}, {\"Appliance\": \"Kettle\", \"Country\": \"Netherlands\", \"CO2\": 67.74088497}, {\"Appliance\": \"Electric Oven\", \"Country\": \"Netherlands\", \"CO2\": 84.169307586}, {\"Appliance\": \"Electric Hob\", \"Country\": \"Netherlands\", \"CO2\": 120.22589324}, {\"Appliance\": \"Dishwasher at 55\\u00b0C\", \"Country\": \"Netherlands\", \"CO2\": 47.00567245}, {\"Appliance\": \"Dishwasher at 65\\u00b0C\", \"Country\": \"Netherlands\", \"CO2\": 77.6372364}, {\"Appliance\": \"Fridge-Freezer A ++ spec\", \"Country\": \"Netherlands\", \"CO2\": 82.269911}, {\"Appliance\": \"Fridge-Freezer A+ spec\", \"Country\": \"Netherlands\", \"CO2\": 107.829495}, {\"Appliance\": \"Fridge-Freezer A spec\", \"Country\": \"Netherlands\", \"CO2\": 162.942348}, {\"Appliance\": \"Primary TV \\u2013 LCD 34-37 inch\", \"Country\": \"Netherlands\", \"CO2\": 5.9182418015}, {\"Appliance\": \"1080Ti (LSTM \\u2013 EN-FR)\", \"Country\": \"Netherlands\", \"CO2\": 1962.65732074163}, {\"Appliance\": \"1080Ti (LSTM \\u2013 EN-ES)\", \"Country\": \"Netherlands\", \"CO2\": 1944.41431423442}, {\"Appliance\": \"1080Ti (LSTM \\u2013 FR-EN)\", \"Country\": \"Netherlands\", \"CO2\": 1956.82071412165}, {\"Appliance\": \"1080Ti (LSTM \\u2013 ES-EN)\", \"Country\": \"Netherlands\", \"CO2\": 1928.60585424118}, {\"Appliance\": \"1080Ti (TRANS \\u2013 EN-FR)\", \"Country\": \"Netherlands\", \"CO2\": 2439.54477747127}, {\"Appliance\": \"1080Ti (TRANS \\u2013 EN-ES)\", \"Country\": \"Netherlands\", \"CO2\": 2438.32622363636}, {\"Appliance\": \"1080Ti (TRANS \\u2013 FR-EN)\", \"Country\": \"Netherlands\", \"CO2\": 2440.39479307317}, {\"Appliance\": \"1080Ti (TRANS \\u2013 ES-EN)\", \"Country\": \"Netherlands\", \"CO2\": 2475.3311745283}, {\"Appliance\": \"P100 (LSTM \\u2013 EN-FR)\", \"Country\": \"Netherlands\", \"CO2\": 1176.06493997876}, {\"Appliance\": \"P100 (LSTM \\u2013 EN-ES)\", \"Country\": \"Netherlands\", \"CO2\": 1163.35612559424}, {\"Appliance\": \"P100 (LSTM \\u2013 FR-EN)\", \"Country\": \"Netherlands\", \"CO2\": 1161.1402951828}, {\"Appliance\": \"P100 (LSTM \\u2013 ES-EN)\", \"Country\": \"Netherlands\", \"CO2\": 1160.08545248308}, {\"Appliance\": \"P100 (TRANS \\u2013 EN-FR)\", \"Country\": \"Netherlands\", \"CO2\": 1569.47084905138}, {\"Appliance\": \"P100 (TRANS \\u2013 EN-ES)\", \"Country\": \"Netherlands\", \"CO2\": 1552.95034346535}, {\"Appliance\": \"P100 (TRANS \\u2013 FR-EN)\", \"Country\": \"Netherlands\", \"CO2\": 1550.8672843299}, {\"Appliance\": \"P100 (TRANS \\u2013 ES-EN)\", \"Country\": \"Netherlands\", \"CO2\": 1546.09717490323}, {\"Appliance\": \"1080Ti (LSTM \\u2013 EN-FR Translate)\", \"Country\": \"Netherlands\", \"CO2\": 506.357219210526}, {\"Appliance\": \"1080Ti (LSTM \\u2013 EN-ES Translate)\", \"Country\": \"Netherlands\", \"CO2\": 507.024356521739}, {\"Appliance\": \"1080Ti (LSTM \\u2013 FR-EN Translate)\", \"Country\": \"Netherlands\", \"CO2\": 496.051441343284}, {\"Appliance\": \"1080Ti (LSTM \\u2013 ES-EN Translate)\", \"Country\": \"Netherlands\", \"CO2\": 496.404251756757}, {\"Appliance\": \"1080Ti (TRANS \\u2013 EN-FR Translate)\", \"Country\": \"Netherlands\", \"CO2\": 598.597196577947}, {\"Appliance\": \"1080Ti (TRANS \\u2013 EN-ES Translate)\", \"Country\": \"Netherlands\", \"CO2\": 536.05558983871}, {\"Appliance\": \"1080Ti (TRANS \\u2013 FR-EN Translate)\", \"Country\": \"Netherlands\", \"CO2\": 665.700400080972}, {\"Appliance\": \"1080Ti (TRANS \\u2013 ES-EN Translate)\", \"Country\": \"Netherlands\", \"CO2\": 599.737381714286}, {\"Appliance\": \"P100 (LSTM \\u2013 EN-FR Translate)\", \"Country\": \"Netherlands\", \"CO2\": 304.214613913043}, {\"Appliance\": \"P100 (LSTM \\u2013 EN-ES Translate)\", \"Country\": \"Netherlands\", \"CO2\": 310.514916568047}, {\"Appliance\": \"P100 (LSTM \\u2013 FR-EN Translate)\", \"Country\": \"Netherlands\", \"CO2\": 312.712228826816}, {\"Appliance\": \"P100 (LSTM \\u2013 ES-EN Translate)\", \"Country\": \"Netherlands\", \"CO2\": 302.336745925926}, {\"Appliance\": \"P100 (TRANS \\u2013 EN-FR Translate)\", \"Country\": \"Netherlands\", \"CO2\": 360.307341727575}, {\"Appliance\": \"P100 (TRANS \\u2013 EN-ES Translate)\", \"Country\": \"Netherlands\", \"CO2\": 349.846806}, {\"Appliance\": \"P100 (TRANS \\u2013 FR-EN Translate)\", \"Country\": \"Netherlands\", \"CO2\": 341.045628490566}, {\"Appliance\": \"P100 (TRANS \\u2013 ES-EN Translate)\", \"Country\": \"Netherlands\", \"CO2\": 364.152809219331}]}}, {\"mode\": \"vega-lite\"});\n",
       "</script>"
      ],
      "text/plain": [
       "alt.Chart(...)"
      ]
     },
     "execution_count": 8,
     "metadata": {},
     "output_type": "execute_result"
    }
   ],
   "source": [
    "alt.Chart(data_co2).mark_bar().encode(\n",
    "    y=alt.Y('Country:N', title=\"\", axis=alt.Axis(labels=False, ticks=False)),\n",
    "    x=alt.X('CO2:Q', title='CO2 (kg) for a year'),\n",
    "    row=alt.Row(\"Appliance\", spacing=0, title=\"Appliance\", sort=list(sorting_idx_co2)),\n",
    "    color = 'Country:N'\n",
    ").configure_view(\n",
    "    strokeWidth=0\n",
    ").configure_headerRow(labelAngle=-0, labelAlign='left', labelAnchor='middle'\n",
    "                     ).configure_legend(orient='bottom'\n",
    "                                       ).properties(height=20, width=300)"
   ]
  },
  {
   "cell_type": "code",
   "execution_count": 29,
   "metadata": {},
   "outputs": [
    {
     "data": {
      "text/html": [
       "\n",
       "<div id=\"altair-viz-7fa57464a3c44bb9bee5e501eb56926e\"></div>\n",
       "<script type=\"text/javascript\">\n",
       "  (function(spec, embedOpt){\n",
       "    let outputDiv = document.currentScript.previousElementSibling;\n",
       "    if (outputDiv.id !== \"altair-viz-7fa57464a3c44bb9bee5e501eb56926e\") {\n",
       "      outputDiv = document.getElementById(\"altair-viz-7fa57464a3c44bb9bee5e501eb56926e\");\n",
       "    }\n",
       "    const paths = {\n",
       "      \"vega\": \"https://cdn.jsdelivr.net/npm//vega@5?noext\",\n",
       "      \"vega-lib\": \"https://cdn.jsdelivr.net/npm//vega-lib?noext\",\n",
       "      \"vega-lite\": \"https://cdn.jsdelivr.net/npm//vega-lite@4.8.1?noext\",\n",
       "      \"vega-embed\": \"https://cdn.jsdelivr.net/npm//vega-embed@6?noext\",\n",
       "    };\n",
       "\n",
       "    function loadScript(lib) {\n",
       "      return new Promise(function(resolve, reject) {\n",
       "        var s = document.createElement('script');\n",
       "        s.src = paths[lib];\n",
       "        s.async = true;\n",
       "        s.onload = () => resolve(paths[lib]);\n",
       "        s.onerror = () => reject(`Error loading script: ${paths[lib]}`);\n",
       "        document.getElementsByTagName(\"head\")[0].appendChild(s);\n",
       "      });\n",
       "    }\n",
       "\n",
       "    function showError(err) {\n",
       "      outputDiv.innerHTML = `<div class=\"error\" style=\"color:red;\">${err}</div>`;\n",
       "      throw err;\n",
       "    }\n",
       "\n",
       "    function displayChart(vegaEmbed) {\n",
       "      vegaEmbed(outputDiv, spec, embedOpt)\n",
       "        .catch(err => showError(`Javascript Error: ${err.message}<br>This usually means there's a typo in your chart specification. See the javascript console for the full traceback.`));\n",
       "    }\n",
       "\n",
       "    if(typeof define === \"function\" && define.amd) {\n",
       "      requirejs.config({paths});\n",
       "      require([\"vega-embed\"], displayChart, err => showError(`Error loading script: ${err.message}`));\n",
       "    } else if (typeof vegaEmbed === \"function\") {\n",
       "      displayChart(vegaEmbed);\n",
       "    } else {\n",
       "      loadScript(\"vega\")\n",
       "        .then(() => loadScript(\"vega-lite\"))\n",
       "        .then(() => loadScript(\"vega-embed\"))\n",
       "        .catch(showError)\n",
       "        .then(() => displayChart(vegaEmbed));\n",
       "    }\n",
       "  })({\"config\": {\"view\": {\"continuousWidth\": 400, \"continuousHeight\": 300}, \"legend\": {\"orient\": \"bottom\"}}, \"layer\": [{\"data\": {\"name\": \"data-8843ad8f7760a58cc9c8d14c6b19588f\"}, \"mark\": \"bar\", \"encoding\": {\"color\": {\"type\": \"nominal\", \"field\": \"op\", \"title\": \"\"}, \"x\": {\"type\": \"quantitative\", \"field\": \"avg\", \"title\": \"Average power draw (Watts)\"}, \"y\": {\"type\": \"nominal\", \"field\": \"Appliance\", \"sort\": [\"Toaster \", \"Microwave \", \"Electric mower \", \"Hairdryer \", \"Electric drill \", \"Vacuum cleaner \", \"1080Ti (TRANS \\u2013 ES-EN)\", \"1080Ti (TRANS \\u2013 EN-FR)\", \"1080Ti (TRANS \\u2013 FR-EN)\", \"1080Ti (TRANS \\u2013 EN-ES)\", \"1080Ti (LSTM \\u2013 EN-FR)\", \"1080Ti (LSTM \\u2013 FR-EN)\", \"1080Ti (LSTM \\u2013 EN-ES)\", \"1080Ti (LSTM \\u2013 ES-EN)\", \"Dehumidifier \", \"P100 (TRANS \\u2013 EN-FR)\", \"P100 (TRANS \\u2013 EN-ES)\", \"P100 (TRANS \\u2013 ES-EN)\", \"P100 (TRANS \\u2013 FR-EN)\", \"Plasma TV \", \"P100 (LSTM \\u2013 EN-FR)\", \"P100 (LSTM \\u2013 EN-ES)\", \"P100 (LSTM \\u2013 FR-EN)\", \"P100 (LSTM \\u2013 ES-EN)\", \"Fridge/freezer \", \"Towel rail \", \"1080Ti (TRANS \\u2013 FR-EN Translate)\", \"1080Ti (TRANS \\u2013 EN-FR Translate)\", \"1080Ti (TRANS \\u2013 ES-EN Translate)\", \"1080Ti (TRANS \\u2013 EN-ES Translate)\", \"Heating blanket \", \"LCD TV \", \"1080Ti (LSTM \\u2013 EN-ES Translate)\", \"1080Ti (LSTM \\u2013 EN-FR Translate)\", \"1080Ti (LSTM \\u2013 FR-EN Translate)\", \"1080Ti (LSTM \\u2013 ES-EN Translate)\", \"Freezer \", \"P100 (general)\", \"1080Ti (general)\", \"Games console \", \"Desktop computer \", \"P100 (TRANS \\u2013 EN-FR Translate)\", \"P100 (TRANS \\u2013 ES-EN Translate)\", \"P100 (TRANS \\u2013 EN-ES Translate)\", \"P100 (TRANS \\u2013 FR-EN Translate)\", \"P100 (LSTM \\u2013 FR-EN Translate)\", \"P100 (LSTM \\u2013 EN-FR Translate)\", \"P100 (LSTM \\u2013 ES-EN Translate)\", \"P100 (LSTM \\u2013 EN-ES Translate)\", \"Fridge \", \"Video, DVD or CD \", \"Laptop \", \"TV box \", \"Extractor fan \", \"Tablet (charge) \", \"Broadband router \", \"Smart phone (charge) \"]}}}, {\"data\": {\"name\": \"data-c01375515487c84019ae7e0740b82a56\"}, \"mark\": {\"type\": \"bar\", \"color\": \"orange\"}, \"encoding\": {\"color\": {\"type\": \"nominal\", \"field\": \"op\", \"title\": \"\"}, \"x\": {\"type\": \"quantitative\", \"field\": \"avg\"}, \"y\": {\"type\": \"nominal\", \"field\": \"Appliance\", \"sort\": [\"Toaster \", \"Microwave \", \"Electric mower \", \"Hairdryer \", \"Electric drill \", \"Vacuum cleaner \", \"1080Ti (TRANS \\u2013 ES-EN)\", \"1080Ti (TRANS \\u2013 EN-FR)\", \"1080Ti (TRANS \\u2013 FR-EN)\", \"1080Ti (TRANS \\u2013 EN-ES)\", \"1080Ti (LSTM \\u2013 EN-FR)\", \"1080Ti (LSTM \\u2013 FR-EN)\", \"1080Ti (LSTM \\u2013 EN-ES)\", \"1080Ti (LSTM \\u2013 ES-EN)\", \"Dehumidifier \", \"P100 (TRANS \\u2013 EN-FR)\", \"P100 (TRANS \\u2013 EN-ES)\", \"P100 (TRANS \\u2013 ES-EN)\", \"P100 (TRANS \\u2013 FR-EN)\", \"Plasma TV \", \"P100 (LSTM \\u2013 EN-FR)\", \"P100 (LSTM \\u2013 EN-ES)\", \"P100 (LSTM \\u2013 FR-EN)\", \"P100 (LSTM \\u2013 ES-EN)\", \"Fridge/freezer \", \"Towel rail \", \"1080Ti (TRANS \\u2013 FR-EN Translate)\", \"1080Ti (TRANS \\u2013 EN-FR Translate)\", \"1080Ti (TRANS \\u2013 ES-EN Translate)\", \"1080Ti (TRANS \\u2013 EN-ES Translate)\", \"Heating blanket \", \"LCD TV \", \"1080Ti (LSTM \\u2013 EN-ES Translate)\", \"1080Ti (LSTM \\u2013 EN-FR Translate)\", \"1080Ti (LSTM \\u2013 FR-EN Translate)\", \"1080Ti (LSTM \\u2013 ES-EN Translate)\", \"Freezer \", \"P100 (general)\", \"1080Ti (general)\", \"Games console \", \"Desktop computer \", \"P100 (TRANS \\u2013 EN-FR Translate)\", \"P100 (TRANS \\u2013 ES-EN Translate)\", \"P100 (TRANS \\u2013 EN-ES Translate)\", \"P100 (TRANS \\u2013 FR-EN Translate)\", \"P100 (LSTM \\u2013 FR-EN Translate)\", \"P100 (LSTM \\u2013 EN-FR Translate)\", \"P100 (LSTM \\u2013 ES-EN Translate)\", \"P100 (LSTM \\u2013 EN-ES Translate)\", \"Fridge \", \"Video, DVD or CD \", \"Laptop \", \"TV box \", \"Extractor fan \", \"Tablet (charge) \", \"Broadband router \", \"Smart phone (charge) \"]}}}], \"width\": 300, \"$schema\": \"https://vega.github.io/schema/vega-lite/v4.8.1.json\", \"datasets\": {\"data-8843ad8f7760a58cc9c8d14c6b19588f\": [{\"Appliance\": \"Toaster \", \"avg\": 1150.0, \"std\": 0.0, \"op\": \"GPUs\"}, {\"Appliance\": \"Microwave \", \"avg\": 1050.0, \"std\": 0.0, \"op\": \"GPUs\"}, {\"Appliance\": \"Electric mower \", \"avg\": 1000.0, \"std\": 0.0, \"op\": \"GPUs\"}, {\"Appliance\": \"Hairdryer \", \"avg\": 1000.0, \"std\": 0.0, \"op\": \"GPUs\"}, {\"Appliance\": \"Electric drill \", \"avg\": 950.0, \"std\": 0.0, \"op\": \"GPUs\"}, {\"Appliance\": \"Vacuum cleaner \", \"avg\": 850.0, \"std\": 0.0, \"op\": \"GPUs\"}, {\"Appliance\": \"Dehumidifier \", \"avg\": 500.0, \"std\": 0.0, \"op\": \"GPUs\"}, {\"Appliance\": \"Plasma TV \", \"avg\": 365.0, \"std\": 0.0, \"op\": \"GPUs\"}, {\"Appliance\": \"Fridge/freezer \", \"avg\": 300.0, \"std\": 0.0, \"op\": \"GPUs\"}, {\"Appliance\": \"Towel rail \", \"avg\": 250.0, \"std\": 0.0, \"op\": \"GPUs\"}, {\"Appliance\": \"Heating blanket \", \"avg\": 165.0, \"std\": 0.0, \"op\": \"GPUs\"}, {\"Appliance\": \"LCD TV \", \"avg\": 160.0, \"std\": 0.0, \"op\": \"GPUs\"}, {\"Appliance\": \"Freezer \", \"avg\": 150.0, \"std\": 0.0, \"op\": \"GPUs\"}, {\"Appliance\": \"P100 (general)\", \"avg\": 140.0, \"std\": 0.0, \"op\": \"GPUs\"}, {\"Appliance\": \"1080Ti (general)\", \"avg\": 131.5, \"std\": 0.0, \"op\": \"GPUs\"}, {\"Appliance\": \"Games console \", \"avg\": 117.5, \"std\": 0.0, \"op\": \"GPUs\"}, {\"Appliance\": \"Desktop computer \", \"avg\": 115.0, \"std\": 0.0, \"op\": \"GPUs\"}, {\"Appliance\": \"Fridge \", \"avg\": 80.0, \"std\": 0.0, \"op\": \"GPUs\"}, {\"Appliance\": \"Video, DVD or CD \", \"avg\": 40.0, \"std\": 0.0, \"op\": \"GPUs\"}, {\"Appliance\": \"TV box \", \"avg\": 35.0, \"std\": 0.0, \"op\": \"GPUs\"}, {\"Appliance\": \"Laptop \", \"avg\": 35.0, \"std\": 0.0, \"op\": \"GPUs\"}, {\"Appliance\": \"Extractor fan \", \"avg\": 20.5, \"std\": 0.0, \"op\": \"GPUs\"}, {\"Appliance\": \"Tablet (charge) \", \"avg\": 10.0, \"std\": 0.0, \"op\": \"GPUs\"}, {\"Appliance\": \"Broadband router \", \"avg\": 8.5, \"std\": 0.0, \"op\": \"GPUs\"}, {\"Appliance\": \"Smart phone (charge) \", \"avg\": 3.75, \"std\": 0.0, \"op\": \"GPUs\"}, {\"Appliance\": \"1080Ti (LSTM \\u2013 EN-FR)\", \"avg\": 568.21, \"std\": 66.2921034490289, \"op\": \"GPUs\"}, {\"Appliance\": \"1080Ti (LSTM \\u2013 EN-ES)\", \"avg\": 563.54, \"std\": 65.8986782566505, \"op\": \"GPUs\"}, {\"Appliance\": \"1080Ti (LSTM \\u2013 FR-EN)\", \"avg\": 567.39, \"std\": 66.2481826950851, \"op\": \"GPUs\"}, {\"Appliance\": \"1080Ti (LSTM \\u2013 ES-EN)\", \"avg\": 559.6, \"std\": 65.217814597522, \"op\": \"GPUs\"}, {\"Appliance\": \"1080Ti (TRANS \\u2013 EN-FR)\", \"avg\": 706.79, \"std\": 57.8363031300435, \"op\": \"GPUs\"}, {\"Appliance\": \"1080Ti (TRANS \\u2013 EN-ES)\", \"avg\": 706.16, \"std\": 58.021819935197, \"op\": \"GPUs\"}, {\"Appliance\": \"1080Ti (TRANS \\u2013 FR-EN)\", \"avg\": 706.54, \"std\": 57.8837390236763, \"op\": \"GPUs\"}, {\"Appliance\": \"1080Ti (TRANS \\u2013 ES-EN)\", \"avg\": 717.9, \"std\": 56.4476379333681, \"op\": \"GPUs\"}, {\"Appliance\": \"P100 (LSTM \\u2013 EN-FR)\", \"avg\": 345.28, \"std\": 60.263039231575, \"op\": \"GPUs\"}, {\"Appliance\": \"P100 (LSTM \\u2013 EN-ES)\", \"avg\": 341.98, \"std\": 60.3281083490882, \"op\": \"GPUs\"}, {\"Appliance\": \"P100 (LSTM \\u2013 FR-EN)\", \"avg\": 341.74, \"std\": 59.7149984935776, \"op\": \"GPUs\"}, {\"Appliance\": \"P100 (LSTM \\u2013 ES-EN)\", \"avg\": 340.44, \"std\": 59.6281775885109, \"op\": \"GPUs\"}, {\"Appliance\": \"P100 (TRANS \\u2013 EN-FR)\", \"avg\": 460.42, \"std\": 36.8339215539985, \"op\": \"GPUs\"}, {\"Appliance\": \"P100 (TRANS \\u2013 EN-ES)\", \"avg\": 456.23, \"std\": 36.9730765287956, \"op\": \"GPUs\"}, {\"Appliance\": \"P100 (TRANS \\u2013 FR-EN)\", \"avg\": 454.3, \"std\": 38.752660215844, \"op\": \"GPUs\"}, {\"Appliance\": \"P100 (TRANS \\u2013 ES-EN)\", \"avg\": 454.76, \"std\": 38.0443349309381, \"op\": \"GPUs\"}, {\"Appliance\": \"1080Ti (LSTM \\u2013 EN-FR Translate)\", \"avg\": 157.72, \"std\": 45.0003592389098, \"op\": \"GPUs\"}, {\"Appliance\": \"1080Ti (LSTM \\u2013 EN-ES Translate)\", \"avg\": 158.43, \"std\": 44.8692531899941, \"op\": \"GPUs\"}, {\"Appliance\": \"1080Ti (LSTM \\u2013 FR-EN Translate)\", \"avg\": 154.98, \"std\": 43.1115041308594, \"op\": \"GPUs\"}, {\"Appliance\": \"1080Ti (LSTM \\u2013 ES-EN Translate)\", \"avg\": 153.43, \"std\": 45.0501543794346, \"op\": \"GPUs\"}, {\"Appliance\": \"1080Ti (TRANS \\u2013 EN-FR Translate)\", \"avg\": 188.71, \"std\": 45.594847750676, \"op\": \"GPUs\"}, {\"Appliance\": \"1080Ti (TRANS \\u2013 EN-ES Translate)\", \"avg\": 169.97, \"std\": 42.4950179134318, \"op\": \"GPUs\"}, {\"Appliance\": \"1080Ti (TRANS \\u2013 FR-EN Translate)\", \"avg\": 193.34, \"std\": 43.1917699739911, \"op\": \"GPUs\"}, {\"Appliance\": \"1080Ti (TRANS \\u2013 ES-EN Translate)\", \"avg\": 175.58, \"std\": 44.7645046614789, \"op\": \"GPUs\"}, {\"Appliance\": \"P100 (LSTM \\u2013 EN-FR Translate)\", \"avg\": 90.4961336220229, \"std\": 25.9622498418033, \"op\": \"GPUs\"}, {\"Appliance\": \"P100 (LSTM \\u2013 EN-ES Translate)\", \"avg\": 89.061551292744, \"std\": 25.7973118563028, \"op\": \"GPUs\"}, {\"Appliance\": \"P100 (LSTM \\u2013 FR-EN Translate)\", \"avg\": 93.1365436401077, \"std\": 26.5708283274654, \"op\": \"GPUs\"}, {\"Appliance\": \"P100 (LSTM \\u2013 ES-EN Translate)\", \"avg\": 89.3534827166927, \"std\": 25.8830685970294, \"op\": \"GPUs\"}, {\"Appliance\": \"P100 (TRANS \\u2013 EN-FR Translate)\", \"avg\": 104.523625023625, \"std\": 28.2977753431768, \"op\": \"GPUs\"}, {\"Appliance\": \"P100 (TRANS \\u2013 EN-ES Translate)\", \"avg\": 102.706861755802, \"std\": 28.8328693076613, \"op\": \"GPUs\"}, {\"Appliance\": \"P100 (TRANS \\u2013 FR-EN Translate)\", \"avg\": 100.927855352667, \"std\": 31.8446369625613, \"op\": \"GPUs\"}, {\"Appliance\": \"P100 (TRANS \\u2013 ES-EN Translate)\", \"avg\": 104.349528795812, \"std\": 29.3982498907096, \"op\": \"GPUs\"}], \"data-c01375515487c84019ae7e0740b82a56\": [{\"Appliance\": \"Toaster \", \"Min\": 800.0, \"Max\": 1500.0, \"avg\": 1150.0, \"std\": 0.0, \"op\": \"Devices\"}, {\"Appliance\": \"Microwave \", \"Min\": 600.0, \"Max\": 1500.0, \"avg\": 1050.0, \"std\": 0.0, \"op\": \"Devices\"}, {\"Appliance\": \"Electric mower \", \"Min\": 500.0, \"Max\": 1500.0, \"avg\": 1000.0, \"std\": 0.0, \"op\": \"Devices\"}, {\"Appliance\": \"Hairdryer \", \"Min\": 1000.0, \"Max\": 1000.0, \"avg\": 1000.0, \"std\": 0.0, \"op\": \"Devices\"}, {\"Appliance\": \"Electric drill \", \"Min\": 900.0, \"Max\": 1000.0, \"avg\": 950.0, \"std\": 0.0, \"op\": \"Devices\"}, {\"Appliance\": \"Vacuum cleaner \", \"Min\": 500.0, \"Max\": 1200.0, \"avg\": 850.0, \"std\": 0.0, \"op\": \"Devices\"}, {\"Appliance\": \"Dehumidifier \", \"Min\": 300.0, \"Max\": 700.0, \"avg\": 500.0, \"std\": 0.0, \"op\": \"Devices\"}, {\"Appliance\": \"Plasma TV \", \"Min\": 280.0, \"Max\": 450.0, \"avg\": 365.0, \"std\": 0.0, \"op\": \"Devices\"}, {\"Appliance\": \"Fridge/freezer \", \"Min\": 200.0, \"Max\": 400.0, \"avg\": 300.0, \"std\": 0.0, \"op\": \"Devices\"}, {\"Appliance\": \"Towel rail \", \"Min\": 250.0, \"Max\": 250.0, \"avg\": 250.0, \"std\": 0.0, \"op\": \"Devices\"}, {\"Appliance\": \"Heating blanket \", \"Min\": 130.0, \"Max\": 200.0, \"avg\": 165.0, \"std\": 0.0, \"op\": \"Devices\"}, {\"Appliance\": \"LCD TV \", \"Min\": 120.0, \"Max\": 200.0, \"avg\": 160.0, \"std\": 0.0, \"op\": \"Devices\"}, {\"Appliance\": \"Freezer \", \"Min\": 150.0, \"Max\": 150.0, \"avg\": 150.0, \"std\": 0.0, \"op\": \"Devices\"}, {\"Appliance\": \"P100 (general)\", \"Min\": 30.0, \"Max\": 250.0, \"avg\": 140.0, \"std\": 0.0, \"op\": \"Devices\"}, {\"Appliance\": \"1080Ti (general)\", \"Min\": 13.0, \"Max\": 250.0, \"avg\": 131.5, \"std\": 0.0, \"op\": \"Devices\"}, {\"Appliance\": \"Games console \", \"Min\": 45.0, \"Max\": 190.0, \"avg\": 117.5, \"std\": 0.0, \"op\": \"Devices\"}, {\"Appliance\": \"Desktop computer \", \"Min\": 80.0, \"Max\": 150.0, \"avg\": 115.0, \"std\": 0.0, \"op\": \"Devices\"}, {\"Appliance\": \"Fridge \", \"Min\": 40.0, \"Max\": 120.0, \"avg\": 80.0, \"std\": 0.0, \"op\": \"Devices\"}, {\"Appliance\": \"Video, DVD or CD \", \"Min\": 20.0, \"Max\": 60.0, \"avg\": 40.0, \"std\": 0.0, \"op\": \"Devices\"}, {\"Appliance\": \"TV box \", \"Min\": 30.0, \"Max\": 40.0, \"avg\": 35.0, \"std\": 0.0, \"op\": \"Devices\"}, {\"Appliance\": \"Laptop \", \"Min\": 20.0, \"Max\": 50.0, \"avg\": 35.0, \"std\": 0.0, \"op\": \"Devices\"}, {\"Appliance\": \"Extractor fan \", \"Min\": 5.0, \"Max\": 36.0, \"avg\": 20.5, \"std\": 0.0, \"op\": \"Devices\"}, {\"Appliance\": \"Tablet (charge) \", \"Min\": 10.0, \"Max\": 10.0, \"avg\": 10.0, \"std\": 0.0, \"op\": \"Devices\"}, {\"Appliance\": \"Broadband router \", \"Min\": 7.0, \"Max\": 10.0, \"avg\": 8.5, \"std\": 0.0, \"op\": \"Devices\"}, {\"Appliance\": \"Smart phone (charge) \", \"Min\": 2.5, \"Max\": 5.0, \"avg\": 3.75, \"std\": 0.0, \"op\": \"Devices\"}, {\"Appliance\": \"1080Ti (LSTM \\u2013 EN-FR)\", \"Min\": null, \"Max\": null, \"avg\": 0.0, \"std\": null, \"op\": \"Devices\"}, {\"Appliance\": \"1080Ti (LSTM \\u2013 EN-ES)\", \"Min\": null, \"Max\": null, \"avg\": 0.0, \"std\": null, \"op\": \"Devices\"}, {\"Appliance\": \"1080Ti (LSTM \\u2013 FR-EN)\", \"Min\": null, \"Max\": null, \"avg\": 0.0, \"std\": null, \"op\": \"Devices\"}, {\"Appliance\": \"1080Ti (LSTM \\u2013 ES-EN)\", \"Min\": null, \"Max\": null, \"avg\": 0.0, \"std\": null, \"op\": \"Devices\"}, {\"Appliance\": \"1080Ti (TRANS \\u2013 EN-FR)\", \"Min\": null, \"Max\": null, \"avg\": 0.0, \"std\": null, \"op\": \"Devices\"}, {\"Appliance\": \"1080Ti (TRANS \\u2013 EN-ES)\", \"Min\": null, \"Max\": null, \"avg\": 0.0, \"std\": null, \"op\": \"Devices\"}, {\"Appliance\": \"1080Ti (TRANS \\u2013 FR-EN)\", \"Min\": null, \"Max\": null, \"avg\": 0.0, \"std\": null, \"op\": \"Devices\"}, {\"Appliance\": \"1080Ti (TRANS \\u2013 ES-EN)\", \"Min\": null, \"Max\": null, \"avg\": 0.0, \"std\": null, \"op\": \"Devices\"}, {\"Appliance\": \"P100 (LSTM \\u2013 EN-FR)\", \"Min\": null, \"Max\": null, \"avg\": 0.0, \"std\": null, \"op\": \"Devices\"}, {\"Appliance\": \"P100 (LSTM \\u2013 EN-ES)\", \"Min\": null, \"Max\": null, \"avg\": 0.0, \"std\": null, \"op\": \"Devices\"}, {\"Appliance\": \"P100 (LSTM \\u2013 FR-EN)\", \"Min\": null, \"Max\": null, \"avg\": 0.0, \"std\": null, \"op\": \"Devices\"}, {\"Appliance\": \"P100 (LSTM \\u2013 ES-EN)\", \"Min\": null, \"Max\": null, \"avg\": 0.0, \"std\": null, \"op\": \"Devices\"}, {\"Appliance\": \"P100 (TRANS \\u2013 EN-FR)\", \"Min\": null, \"Max\": null, \"avg\": 0.0, \"std\": null, \"op\": \"Devices\"}, {\"Appliance\": \"P100 (TRANS \\u2013 EN-ES)\", \"Min\": null, \"Max\": null, \"avg\": 0.0, \"std\": null, \"op\": \"Devices\"}, {\"Appliance\": \"P100 (TRANS \\u2013 FR-EN)\", \"Min\": null, \"Max\": null, \"avg\": 0.0, \"std\": null, \"op\": \"Devices\"}, {\"Appliance\": \"P100 (TRANS \\u2013 ES-EN)\", \"Min\": null, \"Max\": null, \"avg\": 0.0, \"std\": null, \"op\": \"Devices\"}, {\"Appliance\": \"1080Ti (LSTM \\u2013 EN-FR Translate)\", \"Min\": null, \"Max\": null, \"avg\": 0.0, \"std\": null, \"op\": \"Devices\"}, {\"Appliance\": \"1080Ti (LSTM \\u2013 EN-ES Translate)\", \"Min\": null, \"Max\": null, \"avg\": 0.0, \"std\": null, \"op\": \"Devices\"}, {\"Appliance\": \"1080Ti (LSTM \\u2013 FR-EN Translate)\", \"Min\": null, \"Max\": null, \"avg\": 0.0, \"std\": null, \"op\": \"Devices\"}, {\"Appliance\": \"1080Ti (LSTM \\u2013 ES-EN Translate)\", \"Min\": null, \"Max\": null, \"avg\": 0.0, \"std\": null, \"op\": \"Devices\"}, {\"Appliance\": \"1080Ti (TRANS \\u2013 EN-FR Translate)\", \"Min\": null, \"Max\": null, \"avg\": 0.0, \"std\": null, \"op\": \"Devices\"}, {\"Appliance\": \"1080Ti (TRANS \\u2013 EN-ES Translate)\", \"Min\": null, \"Max\": null, \"avg\": 0.0, \"std\": null, \"op\": \"Devices\"}, {\"Appliance\": \"1080Ti (TRANS \\u2013 FR-EN Translate)\", \"Min\": null, \"Max\": null, \"avg\": 0.0, \"std\": null, \"op\": \"Devices\"}, {\"Appliance\": \"1080Ti (TRANS \\u2013 ES-EN Translate)\", \"Min\": null, \"Max\": null, \"avg\": 0.0, \"std\": null, \"op\": \"Devices\"}, {\"Appliance\": \"P100 (LSTM \\u2013 EN-FR Translate)\", \"Min\": null, \"Max\": null, \"avg\": 0.0, \"std\": null, \"op\": \"Devices\"}, {\"Appliance\": \"P100 (LSTM \\u2013 EN-ES Translate)\", \"Min\": null, \"Max\": null, \"avg\": 0.0, \"std\": null, \"op\": \"Devices\"}, {\"Appliance\": \"P100 (LSTM \\u2013 FR-EN Translate)\", \"Min\": null, \"Max\": null, \"avg\": 0.0, \"std\": null, \"op\": \"Devices\"}, {\"Appliance\": \"P100 (LSTM \\u2013 ES-EN Translate)\", \"Min\": null, \"Max\": null, \"avg\": 0.0, \"std\": null, \"op\": \"Devices\"}, {\"Appliance\": \"P100 (TRANS \\u2013 EN-FR Translate)\", \"Min\": null, \"Max\": null, \"avg\": 0.0, \"std\": null, \"op\": \"Devices\"}, {\"Appliance\": \"P100 (TRANS \\u2013 EN-ES Translate)\", \"Min\": null, \"Max\": null, \"avg\": 0.0, \"std\": null, \"op\": \"Devices\"}, {\"Appliance\": \"P100 (TRANS \\u2013 FR-EN Translate)\", \"Min\": null, \"Max\": null, \"avg\": 0.0, \"std\": null, \"op\": \"Devices\"}, {\"Appliance\": \"P100 (TRANS \\u2013 ES-EN Translate)\", \"Min\": null, \"Max\": null, \"avg\": 0.0, \"std\": null, \"op\": \"Devices\"}]}}, {\"mode\": \"vega-lite\"});\n",
       "</script>"
      ],
      "text/plain": [
       "alt.LayerChart(...)"
      ]
     },
     "execution_count": 29,
     "metadata": {},
     "output_type": "execute_result"
    }
   ],
   "source": [
    "bars_gpu = alt.Chart(data).mark_bar().encode(\n",
    "    y=alt.Y('Appliance', sort=list(sorting_idx)),\n",
    "    x=alt.X('avg', title='Average power draw (Watts)'),\n",
    "    color = alt.Color('op', title='')\n",
    ")\n",
    "\n",
    "bars_other = alt.Chart(data_other).mark_bar(color=\"orange\").encode(\n",
    "    y=alt.Y('Appliance', sort=list(sorting_idx)),\n",
    "    x=alt.X('avg'),\n",
    "    color = alt.Color('op', title='')\n",
    ")\n",
    "\n",
    "(bars_gpu + bars_other).configure_legend(orient='bottom').properties(width=300)"
   ]
  }
 ],
 "metadata": {
  "kernelspec": {
   "display_name": "Python 3",
   "language": "python",
   "name": "python3"
  },
  "language_info": {
   "codemirror_mode": {
    "name": "ipython",
    "version": 3
   },
   "file_extension": ".py",
   "mimetype": "text/x-python",
   "name": "python",
   "nbconvert_exporter": "python",
   "pygments_lexer": "ipython3",
   "version": "3.8.3"
  }
 },
 "nbformat": 4,
 "nbformat_minor": 4
}

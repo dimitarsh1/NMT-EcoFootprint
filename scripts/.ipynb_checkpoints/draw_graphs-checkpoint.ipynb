{
 "cells": [
  {
   "cell_type": "code",
   "execution_count": 8,
   "metadata": {},
   "outputs": [],
   "source": [
    "import os\n",
    "import argparse\n",
    "import pandas as pd\n",
    "import logging\n",
    "import altair as alt\n",
    "from altair_saver import save\n",
    "from vega_datasets import data\n",
    "from datetime import datetime"
   ]
  },
  {
   "cell_type": "code",
   "execution_count": 16,
   "metadata": {},
   "outputs": [],
   "source": [
    "# let's load the data\n",
    "data_ie = pd.read_csv(\"~/Documents/BookCarla/CO2_Intensity/IE_power_origin.csv\", sep='\\t', header=[0])\n",
    "data_nl = pd.read_csv(\"~/Documents/BookCarla/CO2_Intensity/NL_power_origin.csv\", sep='\\t', header=[0])"
   ]
  },
  {
   "cell_type": "code",
   "execution_count": 17,
   "metadata": {},
   "outputs": [],
   "source": [
    "def preproc_data(data):\n",
    "    fossil = [sum(data[['Fossil']][i*24:(i+1)*24].to_numpy(float))/24 for i in range(len(data)//24)]\n",
    "    renewable = [sum(data[['Renewable']][i*24:(i+1)*24].to_numpy(float))/24 for i in range(len(data)//24)]\n",
    "    timestamp = [sum(data[['Timestamp']][i*24:(i+1)*24].to_numpy(float))/24 for i in range(len(data)//24)]\n",
    "    timestamp = [datetime.fromtimestamp(int(ts)).strftime('%Y-%d') for ts in timestamp]\n",
    "    proc_data = pd.DataFrame({'x': timestamp, 'Fossil origin': fossil, 'Renewable origin': renewable})\n",
    "    return proc_data"
   ]
  },
  {
   "cell_type": "code",
   "execution_count": 18,
   "metadata": {},
   "outputs": [],
   "source": [
    "proc_data_ie = preproc_data(data_ie)\n",
    "proc_data_nl = preproc_data(data_nl)"
   ]
  },
  {
   "cell_type": "code",
   "execution_count": 20,
   "metadata": {
    "scrolled": false
   },
   "outputs": [
    {
     "data": {
      "text/html": [
       "\n",
       "<div id=\"altair-viz-76cbb09b99054dec8e0972ece973ec3a\"></div>\n",
       "<script type=\"text/javascript\">\n",
       "  (function(spec, embedOpt){\n",
       "    let outputDiv = document.currentScript.previousElementSibling;\n",
       "    if (outputDiv.id !== \"altair-viz-76cbb09b99054dec8e0972ece973ec3a\") {\n",
       "      outputDiv = document.getElementById(\"altair-viz-76cbb09b99054dec8e0972ece973ec3a\");\n",
       "    }\n",
       "    const paths = {\n",
       "      \"vega\": \"https://cdn.jsdelivr.net/npm//vega@5?noext\",\n",
       "      \"vega-lib\": \"https://cdn.jsdelivr.net/npm//vega-lib?noext\",\n",
       "      \"vega-lite\": \"https://cdn.jsdelivr.net/npm//vega-lite@4.8.1?noext\",\n",
       "      \"vega-embed\": \"https://cdn.jsdelivr.net/npm//vega-embed@6?noext\",\n",
       "    };\n",
       "\n",
       "    function loadScript(lib) {\n",
       "      return new Promise(function(resolve, reject) {\n",
       "        var s = document.createElement('script');\n",
       "        s.src = paths[lib];\n",
       "        s.async = true;\n",
       "        s.onload = () => resolve(paths[lib]);\n",
       "        s.onerror = () => reject(`Error loading script: ${paths[lib]}`);\n",
       "        document.getElementsByTagName(\"head\")[0].appendChild(s);\n",
       "      });\n",
       "    }\n",
       "\n",
       "    function showError(err) {\n",
       "      outputDiv.innerHTML = `<div class=\"error\" style=\"color:red;\">${err}</div>`;\n",
       "      throw err;\n",
       "    }\n",
       "\n",
       "    function displayChart(vegaEmbed) {\n",
       "      vegaEmbed(outputDiv, spec, embedOpt)\n",
       "        .catch(err => showError(`Javascript Error: ${err.message}<br>This usually means there's a typo in your chart specification. See the javascript console for the full traceback.`));\n",
       "    }\n",
       "\n",
       "    if(typeof define === \"function\" && define.amd) {\n",
       "      requirejs.config({paths});\n",
       "      require([\"vega-embed\"], displayChart, err => showError(`Error loading script: ${err.message}`));\n",
       "    } else if (typeof vegaEmbed === \"function\") {\n",
       "      displayChart(vegaEmbed);\n",
       "    } else {\n",
       "      loadScript(\"vega\")\n",
       "        .then(() => loadScript(\"vega-lite\"))\n",
       "        .then(() => loadScript(\"vega-embed\"))\n",
       "        .catch(showError)\n",
       "        .then(() => displayChart(vegaEmbed));\n",
       "    }\n",
       "  })({\"config\": {\"view\": {\"continuousWidth\": 400, \"continuousHeight\": 300}, \"axisX\": {\"labelAngle\": 45}}, \"hconcat\": [{\"data\": {\"name\": \"data-851429d0646b76369875470cdc7b7bdc\"}, \"mark\": \"bar\", \"encoding\": {\"color\": {\"type\": \"nominal\", \"field\": \"Origin\"}, \"x\": {\"type\": \"nominal\", \"field\": \"x\", \"title\": \"\"}, \"y\": {\"type\": \"quantitative\", \"axis\": {\"format\": \"%\"}, \"field\": \"Renewable vs. Fosil\", \"stack\": \"normalize\", \"title\": \"\"}}, \"height\": 175, \"title\": \"Ireland\", \"transform\": [{\"fold\": [\"Fossil origin\", \"Renewable origin\"], \"as\": [\"Origin\", \"Renewable vs. Fosil\"]}], \"width\": 200}, {\"data\": {\"name\": \"data-67ab131085171121a3954302336cbae3\"}, \"mark\": \"bar\", \"encoding\": {\"color\": {\"type\": \"nominal\", \"field\": \"Origin\"}, \"x\": {\"type\": \"nominal\", \"field\": \"x\", \"title\": \"\"}, \"y\": {\"type\": \"quantitative\", \"axis\": {\"format\": \"%\"}, \"field\": \"Renewable vs. Fosil\", \"stack\": \"normalize\", \"title\": \"\"}}, \"height\": 175, \"title\": \"Netherlands\", \"transform\": [{\"fold\": [\"Fossil origin\", \"Renewable origin\"], \"as\": [\"Origin\", \"Renewable vs. Fosil\"]}], \"width\": 200}], \"$schema\": \"https://vega.github.io/schema/vega-lite/v4.8.1.json\", \"datasets\": {\"data-851429d0646b76369875470cdc7b7bdc\": [{\"x\": \"2020-01\", \"Fossil origin\": [48.47278829823873], \"Renewable origin\": [51.34762474751994]}, {\"x\": \"2020-02\", \"Fossil origin\": [26.315289447773946], \"Renewable origin\": [73.52438071826296]}, {\"x\": \"2020-03\", \"Fossil origin\": [46.15711027080466], \"Renewable origin\": [53.09724820381345]}, {\"x\": \"2020-04\", \"Fossil origin\": [41.37183178972095], \"Renewable origin\": [58.5210666879422]}, {\"x\": \"2020-05\", \"Fossil origin\": [23.66369868578501], \"Renewable origin\": [76.33630131421498]}, {\"x\": \"2020-06\", \"Fossil origin\": [28.401917785046013], \"Renewable origin\": [71.02849702617299]}], \"data-67ab131085171121a3954302336cbae3\": [{\"x\": \"2020-01\", \"Fossil origin\": [75.95128483854562], \"Renewable origin\": [17.692774631083353]}, {\"x\": \"2020-02\", \"Fossil origin\": [75.43594437971329], \"Renewable origin\": [20.46370545459583]}, {\"x\": \"2020-03\", \"Fossil origin\": [69.7225440100448], \"Renewable origin\": [26.381559595059283]}, {\"x\": \"2020-04\", \"Fossil origin\": [71.8961604217242], \"Renewable origin\": [23.881116085396403]}, {\"x\": \"2020-05\", \"Fossil origin\": [81.5715393200084], \"Renewable origin\": [14.090171456339133]}, {\"x\": \"2020-06\", \"Fossil origin\": [75.21238760343734], \"Renewable origin\": [20.80906760936481]}]}}, {\"mode\": \"vega-lite\"});\n",
       "</script>"
      ],
      "text/plain": [
       "alt.HConcatChart(...)"
      ]
     },
     "execution_count": 20,
     "metadata": {},
     "output_type": "execute_result"
    }
   ],
   "source": [
    "chart1 = alt.Chart(proc_data_ie).transform_fold(\n",
    "  ['Fossil origin', 'Renewable origin'],\n",
    "  as_=['Origin', 'Renewable vs. Fosil']\n",
    ").mark_bar().encode(\n",
    "    x=alt.X('x', title=\"\"),\n",
    "    y=alt.Y('Renewable vs. Fosil:Q', stack='normalize', title=\"\", axis=alt.Axis(format='%')), \n",
    "    color = alt.Color('Origin:N')\n",
    ").properties(width=200, height=175, title='Ireland')\n",
    "\n",
    "chart2 = alt.Chart(proc_data_nl).transform_fold(\n",
    "  ['Fossil origin', 'Renewable origin'],\n",
    "  as_=['Origin', 'Renewable vs. Fosil']\n",
    ").mark_bar().encode(\n",
    "    x=alt.X('x', title=\"\"),\n",
    "    y=alt.Y('Renewable vs. Fosil:Q', stack='normalize', title=\"\", axis=alt.Axis(format='%')), \n",
    "    color = alt.Color('Origin:N')\n",
    ").properties(width=200, height=175, title='Netherlands')\n",
    "\n",
    "(chart1 | chart2).configure_axisX(labelAngle=45)"
   ]
  }
 ],
 "metadata": {
  "kernelspec": {
   "display_name": "Python 3",
   "language": "python",
   "name": "python3"
  },
  "language_info": {
   "codemirror_mode": {
    "name": "ipython",
    "version": 3
   },
   "file_extension": ".py",
   "mimetype": "text/x-python",
   "name": "python",
   "nbconvert_exporter": "python",
   "pygments_lexer": "ipython3",
   "version": "3.8.3"
  }
 },
 "nbformat": 4,
 "nbformat_minor": 4
}

{
 "cells": [
  {
   "cell_type": "code",
   "execution_count": 6,
   "metadata": {},
   "outputs": [],
   "source": [
    "import os\n",
    "import argparse\n",
    "import pandas as pd\n",
    "import logging\n",
    "import altair as alt\n",
    "from altair_saver import save\n",
    "from vega_datasets import data\n",
    "from datetime import datetime"
   ]
  },
  {
   "cell_type": "code",
   "execution_count": 7,
   "metadata": {},
   "outputs": [],
   "source": [
    "# let's load the data\n",
    "data = pd.read_csv(\"~/Documents/BookCarla/Results/GPUs_and_Others.csv\", sep='\\t', header=[0])\n",
    "data_gpu = pd.read_csv(\"~/Documents/BookCarla/Results/GPUs.csv\", sep='\\t', header=[0])\n",
    "data_other = pd.read_csv(\"~/Documents/BookCarla/Results/OtherAppliences_short.csv\", sep='\\t', header=[0])\n",
    "data_co2 = pd.read_csv(\"~/Documents/BookCarla/Results/Appliances_CO2.csv\", sep='\\t', header=[0])\n",
    "sorting_idx = data.sort_values('avg', ascending=False)['Appliance']\n",
    "sorting_idx_co2 = data_co2.sort_values('CO2', ascending=False)['Appliance'].drop_duplicates()"
   ]
  },
  {
   "cell_type": "code",
   "execution_count": 8,
   "metadata": {},
   "outputs": [
    {
     "data": {
      "text/html": [
       "\n",
       "<div id=\"altair-viz-2f00fdbd0e44455e867ff4ae9e2ba4b6\"></div>\n",
       "<script type=\"text/javascript\">\n",
       "  (function(spec, embedOpt){\n",
       "    let outputDiv = document.currentScript.previousElementSibling;\n",
       "    if (outputDiv.id !== \"altair-viz-2f00fdbd0e44455e867ff4ae9e2ba4b6\") {\n",
       "      outputDiv = document.getElementById(\"altair-viz-2f00fdbd0e44455e867ff4ae9e2ba4b6\");\n",
       "    }\n",
       "    const paths = {\n",
       "      \"vega\": \"https://cdn.jsdelivr.net/npm//vega@5?noext\",\n",
       "      \"vega-lib\": \"https://cdn.jsdelivr.net/npm//vega-lib?noext\",\n",
       "      \"vega-lite\": \"https://cdn.jsdelivr.net/npm//vega-lite@4.8.1?noext\",\n",
       "      \"vega-embed\": \"https://cdn.jsdelivr.net/npm//vega-embed@6?noext\",\n",
       "    };\n",
       "\n",
       "    function loadScript(lib) {\n",
       "      return new Promise(function(resolve, reject) {\n",
       "        var s = document.createElement('script');\n",
       "        s.src = paths[lib];\n",
       "        s.async = true;\n",
       "        s.onload = () => resolve(paths[lib]);\n",
       "        s.onerror = () => reject(`Error loading script: ${paths[lib]}`);\n",
       "        document.getElementsByTagName(\"head\")[0].appendChild(s);\n",
       "      });\n",
       "    }\n",
       "\n",
       "    function showError(err) {\n",
       "      outputDiv.innerHTML = `<div class=\"error\" style=\"color:red;\">${err}</div>`;\n",
       "      throw err;\n",
       "    }\n",
       "\n",
       "    function displayChart(vegaEmbed) {\n",
       "      vegaEmbed(outputDiv, spec, embedOpt)\n",
       "        .catch(err => showError(`Javascript Error: ${err.message}<br>This usually means there's a typo in your chart specification. See the javascript console for the full traceback.`));\n",
       "    }\n",
       "\n",
       "    if(typeof define === \"function\" && define.amd) {\n",
       "      requirejs.config({paths});\n",
       "      require([\"vega-embed\"], displayChart, err => showError(`Error loading script: ${err.message}`));\n",
       "    } else if (typeof vegaEmbed === \"function\") {\n",
       "      displayChart(vegaEmbed);\n",
       "    } else {\n",
       "      loadScript(\"vega\")\n",
       "        .then(() => loadScript(\"vega-lite\"))\n",
       "        .then(() => loadScript(\"vega-embed\"))\n",
       "        .catch(showError)\n",
       "        .then(() => displayChart(vegaEmbed));\n",
       "    }\n",
       "  })({\"config\": {\"view\": {\"continuousWidth\": 400, \"continuousHeight\": 300, \"strokeWidth\": 0}, \"headerRow\": {\"labelAlign\": \"left\", \"labelAnchor\": \"middle\", \"labelAngle\": 0}, \"legend\": {\"orient\": \"bottom\"}}, \"data\": {\"name\": \"data-c6afddf8db64a2f040075efb8ea81624\"}, \"mark\": \"bar\", \"encoding\": {\"color\": {\"type\": \"nominal\", \"field\": \"Country\"}, \"row\": {\"type\": \"nominal\", \"field\": \"Appliance\", \"sort\": [\"1080Ti (TRANS \\u2013 ES-EN)\", \"1080Ti (TRANS \\u2013 FR-EN)\", \"1080Ti (TRANS \\u2013 EN-FR)\", \"1080Ti (TRANS \\u2013 EN-ES)\", \"1080Ti (LSTM \\u2013 EN-FR)\", \"1080Ti (LSTM \\u2013 FR-EN)\", \"1080Ti (LSTM \\u2013 EN-ES)\", \"1080Ti (LSTM \\u2013 ES-EN)\", \"P100 (TRANS \\u2013 EN-FR)\", \"P100 (TRANS \\u2013 EN-ES)\", \"P100 (TRANS \\u2013 FR-EN)\", \"P100 (TRANS \\u2013 ES-EN)\", \"P100 (LSTM \\u2013 EN-FR)\", \"P100 (LSTM \\u2013 EN-ES)\", \"P100 (LSTM \\u2013 FR-EN)\", \"P100 (LSTM \\u2013 ES-EN)\", \"1080Ti (TRANS \\u2013 FR-EN Translate)\", \"1080Ti (TRANS \\u2013 ES-EN Translate)\", \"1080Ti (TRANS \\u2013 EN-FR Translate)\", \"1080Ti (TRANS \\u2013 EN-ES Translate)\", \"1080Ti (LSTM \\u2013 EN-ES Translate)\", \"1080Ti (LSTM \\u2013 EN-FR Translate)\", \"1080Ti (LSTM \\u2013 ES-EN Translate)\", \"1080Ti (LSTM \\u2013 FR-EN Translate)\", \"P100 (TRANS \\u2013 ES-EN Translate)\", \"P100 (TRANS \\u2013 EN-FR Translate)\", \"P100 (TRANS \\u2013 EN-ES Translate)\", \"P100 (TRANS \\u2013 FR-EN Translate)\", \"P100 (LSTM \\u2013 FR-EN Translate)\", \"P100 (LSTM \\u2013 EN-ES Translate)\", \"P100 (LSTM \\u2013 EN-FR Translate)\", \"P100 (LSTM \\u2013 ES-EN Translate)\", \"Fridge-Freezer A spec\", \"Electric Tumble Dryer\", \"Electric Hob\", \"Fridge-Freezer A+ spec\", \"Electric Oven\", \"Fridge-Freezer A ++ spec\", \"Dishwasher at 65\\u00b0C\", \"Kettle\", \"Washing Machine\", \"Dishwasher at 55\\u00b0C\", \"Microwave Oven\", \"Primary TV \\u2013 LCD 34-37 inch\"], \"spacing\": 0, \"title\": \"Appliance\"}, \"x\": {\"type\": \"quantitative\", \"field\": \"CO2\", \"title\": \"CO2 (kg) for a year\"}, \"y\": {\"type\": \"nominal\", \"axis\": {\"labels\": false, \"ticks\": false}, \"field\": \"Country\", \"title\": \"\"}}, \"height\": 20, \"width\": 300, \"$schema\": \"https://vega.github.io/schema/vega-lite/v4.8.1.json\", \"datasets\": {\"data-c6afddf8db64a2f040075efb8ea81624\": [{\"Appliance\": \"Microwave Oven\", \"Country\": \"Ireland\", \"CO2\": 20.853969696}, {\"Appliance\": \"Washing Machine\", \"Country\": \"Ireland\", \"CO2\": 27.081196758}, {\"Appliance\": \"Electric Tumble Dryer\", \"Country\": \"Ireland\", \"CO2\": 85.052566}, {\"Appliance\": \"Kettle\", \"Country\": \"Ireland\", \"CO2\": 38.990854716}, {\"Appliance\": \"Electric Oven\", \"Country\": \"Ireland\", \"CO2\": 48.4468610808}, {\"Appliance\": \"Electric Hob\", \"Country\": \"Ireland\", \"CO2\": 69.200606672}, {\"Appliance\": \"Dishwasher at 55\\u00b0C\", \"Country\": \"Ireland\", \"CO2\": 27.05591086}, {\"Appliance\": \"Dishwasher at 65\\u00b0C\", \"Country\": \"Ireland\", \"CO2\": 44.68707792}, {\"Appliance\": \"Fridge-Freezer A ++ spec\", \"Country\": \"Ireland\", \"CO2\": 47.3535908}, {\"Appliance\": \"Fridge-Freezer A+ spec\", \"Country\": \"Ireland\", \"CO2\": 62.065386}, {\"Appliance\": \"Fridge-Freezer A spec\", \"Country\": \"Ireland\", \"CO2\": 93.7876944}, {\"Appliance\": \"Primary TV \\u2013 LCD 34-37 inch\", \"Country\": \"Ireland\", \"CO2\": 3.4064702042}, {\"Appliance\": \"1080Ti (LSTM \\u2013 EN-FR)\", \"Country\": \"Ireland\", \"CO2\": 1129.68241386603}, {\"Appliance\": \"1080Ti (LSTM \\u2013 EN-ES)\", \"Country\": \"Ireland\", \"CO2\": 1119.1819544076}, {\"Appliance\": \"1080Ti (LSTM \\u2013 FR-EN)\", \"Country\": \"Ireland\", \"CO2\": 1126.32293190983}, {\"Appliance\": \"1080Ti (LSTM \\u2013 ES-EN)\", \"Country\": \"Ireland\", \"CO2\": 1110.08279121903}, {\"Appliance\": \"1080Ti (TRANS \\u2013 EN-FR)\", \"Country\": \"Ireland\", \"CO2\": 1404.1732114023}, {\"Appliance\": \"1080Ti (TRANS \\u2013 EN-ES)\", \"Country\": \"Ireland\", \"CO2\": 1403.47182618182}, {\"Appliance\": \"1080Ti (TRANS \\u2013 FR-EN)\", \"Country\": \"Ireland\", \"CO2\": 1404.66247036098}, {\"Appliance\": \"1080Ti (TRANS \\u2013 ES-EN)\", \"Country\": \"Ireland\", \"CO2\": 1424.77143962264}, {\"Appliance\": \"P100 (LSTM \\u2013 EN-FR)\", \"Country\": \"Ireland\", \"CO2\": 676.92911351248}, {\"Appliance\": \"P100 (LSTM \\u2013 EN-ES)\", \"Country\": \"Ireland\", \"CO2\": 669.614069791116}, {\"Appliance\": \"P100 (LSTM \\u2013 FR-EN)\", \"Country\": \"Ireland\", \"CO2\": 668.338663931183}, {\"Appliance\": \"P100 (LSTM \\u2013 ES-EN)\", \"Country\": \"Ireland\", \"CO2\": 667.731508909943}, {\"Appliance\": \"P100 (TRANS \\u2013 EN-FR)\", \"Country\": \"Ireland\", \"CO2\": 903.368916474308}, {\"Appliance\": \"P100 (TRANS \\u2013 EN-ES)\", \"Country\": \"Ireland\", \"CO2\": 893.859908237624}, {\"Appliance\": \"P100 (TRANS \\u2013 FR-EN)\", \"Country\": \"Ireland\", \"CO2\": 892.660923958763}, {\"Appliance\": \"P100 (TRANS \\u2013 ES-EN)\", \"Country\": \"Ireland\", \"CO2\": 889.915305212903}, {\"Appliance\": \"1080Ti (LSTM \\u2013 EN-FR Translate)\", \"Country\": \"Ireland\", \"CO2\": 291.453245368421}, {\"Appliance\": \"1080Ti (LSTM \\u2013 EN-ES Translate)\", \"Country\": \"Ireland\", \"CO2\": 291.83724173913}, {\"Appliance\": \"1080Ti (LSTM \\u2013 FR-EN Translate)\", \"Country\": \"Ireland\", \"CO2\": 285.521361134328}, {\"Appliance\": \"1080Ti (LSTM \\u2013 ES-EN Translate)\", \"Country\": \"Ireland\", \"CO2\": 285.724434648649}, {\"Appliance\": \"1080Ti (TRANS \\u2013 EN-FR Translate)\", \"Country\": \"Ireland\", \"CO2\": 344.545488821293}, {\"Appliance\": \"1080Ti (TRANS \\u2013 EN-ES Translate)\", \"Country\": \"Ireland\", \"CO2\": 308.547277354839}, {\"Appliance\": \"1080Ti (TRANS \\u2013 FR-EN Translate)\", \"Country\": \"Ireland\", \"CO2\": 383.169301603239}, {\"Appliance\": \"1080Ti (TRANS \\u2013 ES-EN Translate)\", \"Country\": \"Ireland\", \"CO2\": 345.201765942857}, {\"Appliance\": \"P100 (LSTM \\u2013 EN-FR Translate)\", \"Country\": \"Ireland\", \"CO2\": 175.102345043478}, {\"Appliance\": \"P100 (LSTM \\u2013 EN-ES Translate)\", \"Country\": \"Ireland\", \"CO2\": 178.728724970414}, {\"Appliance\": \"P100 (LSTM \\u2013 FR-EN Translate)\", \"Country\": \"Ireland\", \"CO2\": 179.993472}, {\"Appliance\": \"P100 (LSTM \\u2013 ES-EN Translate)\", \"Country\": \"Ireland\", \"CO2\": 174.02146637037}, {\"Appliance\": \"P100 (TRANS \\u2013 EN-FR Translate)\", \"Country\": \"Ireland\", \"CO2\": 207.388657833887}, {\"Appliance\": \"P100 (TRANS \\u2013 EN-ES Translate)\", \"Country\": \"Ireland\", \"CO2\": 201.3676968}, {\"Appliance\": \"P100 (TRANS \\u2013 FR-EN Translate)\", \"Country\": \"Ireland\", \"CO2\": 196.301842792453}, {\"Appliance\": \"P100 (TRANS \\u2013 ES-EN Translate)\", \"Country\": \"Ireland\", \"CO2\": 209.602063583643}, {\"Appliance\": \"Microwave Oven\", \"Country\": \"Netherlands\", \"CO2\": 36.23071032}, {\"Appliance\": \"Washing Machine\", \"Country\": \"Netherlands\", \"CO2\": 47.049602985}, {\"Appliance\": \"Electric Tumble Dryer\", \"Country\": \"Netherlands\", \"CO2\": 147.766345}, {\"Appliance\": \"Kettle\", \"Country\": \"Netherlands\", \"CO2\": 67.74088497}, {\"Appliance\": \"Electric Oven\", \"Country\": \"Netherlands\", \"CO2\": 84.169307586}, {\"Appliance\": \"Electric Hob\", \"Country\": \"Netherlands\", \"CO2\": 120.22589324}, {\"Appliance\": \"Dishwasher at 55\\u00b0C\", \"Country\": \"Netherlands\", \"CO2\": 47.00567245}, {\"Appliance\": \"Dishwasher at 65\\u00b0C\", \"Country\": \"Netherlands\", \"CO2\": 77.6372364}, {\"Appliance\": \"Fridge-Freezer A ++ spec\", \"Country\": \"Netherlands\", \"CO2\": 82.269911}, {\"Appliance\": \"Fridge-Freezer A+ spec\", \"Country\": \"Netherlands\", \"CO2\": 107.829495}, {\"Appliance\": \"Fridge-Freezer A spec\", \"Country\": \"Netherlands\", \"CO2\": 162.942348}, {\"Appliance\": \"Primary TV \\u2013 LCD 34-37 inch\", \"Country\": \"Netherlands\", \"CO2\": 5.9182418015}, {\"Appliance\": \"1080Ti (LSTM \\u2013 EN-FR)\", \"Country\": \"Netherlands\", \"CO2\": 1962.65732074163}, {\"Appliance\": \"1080Ti (LSTM \\u2013 EN-ES)\", \"Country\": \"Netherlands\", \"CO2\": 1944.41431423442}, {\"Appliance\": \"1080Ti (LSTM \\u2013 FR-EN)\", \"Country\": \"Netherlands\", \"CO2\": 1956.82071412165}, {\"Appliance\": \"1080Ti (LSTM \\u2013 ES-EN)\", \"Country\": \"Netherlands\", \"CO2\": 1928.60585424118}, {\"Appliance\": \"1080Ti (TRANS \\u2013 EN-FR)\", \"Country\": \"Netherlands\", \"CO2\": 2439.54477747127}, {\"Appliance\": \"1080Ti (TRANS \\u2013 EN-ES)\", \"Country\": \"Netherlands\", \"CO2\": 2438.32622363636}, {\"Appliance\": \"1080Ti (TRANS \\u2013 FR-EN)\", \"Country\": \"Netherlands\", \"CO2\": 2440.39479307317}, {\"Appliance\": \"1080Ti (TRANS \\u2013 ES-EN)\", \"Country\": \"Netherlands\", \"CO2\": 2475.3311745283}, {\"Appliance\": \"P100 (LSTM \\u2013 EN-FR)\", \"Country\": \"Netherlands\", \"CO2\": 1176.06493997876}, {\"Appliance\": \"P100 (LSTM \\u2013 EN-ES)\", \"Country\": \"Netherlands\", \"CO2\": 1163.35612559424}, {\"Appliance\": \"P100 (LSTM \\u2013 FR-EN)\", \"Country\": \"Netherlands\", \"CO2\": 1161.1402951828}, {\"Appliance\": \"P100 (LSTM \\u2013 ES-EN)\", \"Country\": \"Netherlands\", \"CO2\": 1160.08545248308}, {\"Appliance\": \"P100 (TRANS \\u2013 EN-FR)\", \"Country\": \"Netherlands\", \"CO2\": 1569.47084905138}, {\"Appliance\": \"P100 (TRANS \\u2013 EN-ES)\", \"Country\": \"Netherlands\", \"CO2\": 1552.95034346535}, {\"Appliance\": \"P100 (TRANS \\u2013 FR-EN)\", \"Country\": \"Netherlands\", \"CO2\": 1550.8672843299}, {\"Appliance\": \"P100 (TRANS \\u2013 ES-EN)\", \"Country\": \"Netherlands\", \"CO2\": 1546.09717490323}, {\"Appliance\": \"1080Ti (LSTM \\u2013 EN-FR Translate)\", \"Country\": \"Netherlands\", \"CO2\": 506.357219210526}, {\"Appliance\": \"1080Ti (LSTM \\u2013 EN-ES Translate)\", \"Country\": \"Netherlands\", \"CO2\": 507.024356521739}, {\"Appliance\": \"1080Ti (LSTM \\u2013 FR-EN Translate)\", \"Country\": \"Netherlands\", \"CO2\": 496.051441343284}, {\"Appliance\": \"1080Ti (LSTM \\u2013 ES-EN Translate)\", \"Country\": \"Netherlands\", \"CO2\": 496.404251756757}, {\"Appliance\": \"1080Ti (TRANS \\u2013 EN-FR Translate)\", \"Country\": \"Netherlands\", \"CO2\": 598.597196577947}, {\"Appliance\": \"1080Ti (TRANS \\u2013 EN-ES Translate)\", \"Country\": \"Netherlands\", \"CO2\": 536.05558983871}, {\"Appliance\": \"1080Ti (TRANS \\u2013 FR-EN Translate)\", \"Country\": \"Netherlands\", \"CO2\": 665.700400080972}, {\"Appliance\": \"1080Ti (TRANS \\u2013 ES-EN Translate)\", \"Country\": \"Netherlands\", \"CO2\": 599.737381714286}, {\"Appliance\": \"P100 (LSTM \\u2013 EN-FR Translate)\", \"Country\": \"Netherlands\", \"CO2\": 304.214613913043}, {\"Appliance\": \"P100 (LSTM \\u2013 EN-ES Translate)\", \"Country\": \"Netherlands\", \"CO2\": 310.514916568047}, {\"Appliance\": \"P100 (LSTM \\u2013 FR-EN Translate)\", \"Country\": \"Netherlands\", \"CO2\": 312.712228826816}, {\"Appliance\": \"P100 (LSTM \\u2013 ES-EN Translate)\", \"Country\": \"Netherlands\", \"CO2\": 302.336745925926}, {\"Appliance\": \"P100 (TRANS \\u2013 EN-FR Translate)\", \"Country\": \"Netherlands\", \"CO2\": 360.307341727575}, {\"Appliance\": \"P100 (TRANS \\u2013 EN-ES Translate)\", \"Country\": \"Netherlands\", \"CO2\": 349.846806}, {\"Appliance\": \"P100 (TRANS \\u2013 FR-EN Translate)\", \"Country\": \"Netherlands\", \"CO2\": 341.045628490566}, {\"Appliance\": \"P100 (TRANS \\u2013 ES-EN Translate)\", \"Country\": \"Netherlands\", \"CO2\": 364.152809219331}]}}, {\"mode\": \"vega-lite\"});\n",
       "</script>"
      ],
      "text/plain": [
       "alt.Chart(...)"
      ]
     },
     "execution_count": 8,
     "metadata": {},
     "output_type": "execute_result"
    }
   ],
   "source": [
    "alt.Chart(data_co2).mark_bar().encode(\n",
    "    y=alt.Y('Country:N', title=\"\", axis=alt.Axis(labels=False, ticks=False)),\n",
    "    x=alt.X('CO2:Q', title='CO2 (kg) for a year'),\n",
    "    row=alt.Row(\"Appliance\", spacing=0, title=\"Appliance\", sort=list(sorting_idx_co2)),\n",
    "    color = 'Country:N'\n",
    ").configure_view(\n",
    "    strokeWidth=0\n",
    ").configure_headerRow(labelAngle=-0, labelAlign='left', labelAnchor='middle'\n",
    "                     ).configure_legend(orient='bottom'\n",
    "                                       ).properties(height=20, width=300)"
   ]
  },
  {
   "cell_type": "code",
   "execution_count": 28,
   "metadata": {},
   "outputs": [
    {
     "ename": "SyntaxError",
     "evalue": "invalid syntax (<ipython-input-28-f5d88db22776>, line 5)",
     "output_type": "error",
     "traceback": [
      "\u001b[0;36m  File \u001b[0;32m\"<ipython-input-28-f5d88db22776>\"\u001b[0;36m, line \u001b[0;32m5\u001b[0m\n\u001b[0;31m    fill = alt.Fill('op', title='')\u001b[0m\n\u001b[0m    ^\u001b[0m\n\u001b[0;31mSyntaxError\u001b[0m\u001b[0;31m:\u001b[0m invalid syntax\n"
     ]
    }
   ],
   "source": [
    "bars_gpu = alt.Chart(data).mark_bar().encode(\n",
    "    y=alt.Y('Appliance', sort=list(sorting_idx)),\n",
    "    x=alt.X('avg', title='Average power draw (Watts)'),\n",
    "    color = alt.Color('op', title='')\n",
    ")\n",
    "\n",
    "bars_other = alt.Chart(data_other).mark_bar(color=\"orange\").encode(\n",
    "    y=alt.Y('Appliance', sort=list(sorting_idx)),\n",
    "    x=alt.X('avg'),\n",
    "    color = alt.Color('op', title='')\n",
    ")\n",
    "\n",
    "(bars_gpu + bars_other).configure_legend(orient='bottom').properties(width=300)"
   ]
  }
 ],
 "metadata": {
  "kernelspec": {
   "display_name": "Python 3",
   "language": "python",
   "name": "python3"
  },
  "language_info": {
   "codemirror_mode": {
    "name": "ipython",
    "version": 3
   },
   "file_extension": ".py",
   "mimetype": "text/x-python",
   "name": "python",
   "nbconvert_exporter": "python",
   "pygments_lexer": "ipython3",
   "version": "3.8.3"
  }
 },
 "nbformat": 4,
 "nbformat_minor": 4
}
